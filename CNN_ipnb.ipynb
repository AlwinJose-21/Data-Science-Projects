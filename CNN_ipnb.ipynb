{
  "nbformat": 4,
  "nbformat_minor": 0,
  "metadata": {
    "colab": {
      "provenance": [],
      "authorship_tag": "ABX9TyPp21e41jepqhPbzCOlvNRj",
      "include_colab_link": true
    },
    "kernelspec": {
      "name": "python3",
      "display_name": "Python 3"
    },
    "language_info": {
      "name": "python"
    }
  },
  "cells": [
    {
      "cell_type": "markdown",
      "metadata": {
        "id": "view-in-github",
        "colab_type": "text"
      },
      "source": [
        "<a href=\"https://colab.research.google.com/github/AlwinJose-21/Data-Science-Projects/blob/main/CNN_ipnb.ipynb\" target=\"_parent\"><img src=\"https://colab.research.google.com/assets/colab-badge.svg\" alt=\"Open In Colab\"/></a>"
      ]
    },
    {
      "cell_type": "code",
      "execution_count": null,
      "metadata": {
        "id": "m1uCsFIWerrV",
        "colab": {
          "base_uri": "https://localhost:8080/"
        },
        "outputId": "14830ec5-5631-41fe-a95e-ea787afcf1ba"
      },
      "outputs": [
        {
          "output_type": "stream",
          "name": "stdout",
          "text": [
            "Mounted at /content/drive\n"
          ]
        }
      ],
      "source": [
        "from google.colab import drive\n",
        "drive.mount('/content/drive')"
      ]
    },
    {
      "cell_type": "code",
      "source": [
        "import pandas as pd\n",
        "from sklearn.svm import SVC\n",
        "import numpy as np\n",
        "import matplotlib.pyplot as plt\n",
        "import os # Define path of file and directory\n",
        "from skimage.io import imread # used for reading images\n",
        "from sklearn.model_selection import train_test_split\n",
        "from skimage.transform import resize"
      ],
      "metadata": {
        "id": "uNG3mzzHfLhS"
      },
      "execution_count": null,
      "outputs": []
    },
    {
      "cell_type": "code",
      "source": [
        "os.listdir('/content/drive/MyDrive/Classroom/BD SEP23 B2 SABIR/Data')"
      ],
      "metadata": {
        "colab": {
          "base_uri": "https://localhost:8080/"
        },
        "id": "ybPkzht_RtJR",
        "outputId": "e07dbb97-cc8e-41fd-915e-6b2295b2de98"
      },
      "execution_count": null,
      "outputs": [
        {
          "output_type": "execute_result",
          "data": {
            "text/plain": [
              "['Dog', 'Cat']"
            ]
          },
          "metadata": {},
          "execution_count": 4
        }
      ]
    },
    {
      "cell_type": "code",
      "source": [
        "len(os.listdir('/content/drive/MyDrive/Classroom/BD SEP23 B2 SABIR/Data/Cat'))"
      ],
      "metadata": {
        "colab": {
          "base_uri": "https://localhost:8080/"
        },
        "id": "_cILwwvXR84a",
        "outputId": "52e34d14-6bfb-47ec-caff-a6c8797d54cc"
      },
      "execution_count": null,
      "outputs": [
        {
          "output_type": "execute_result",
          "data": {
            "text/plain": [
              "85"
            ]
          },
          "metadata": {},
          "execution_count": 5
        }
      ]
    },
    {
      "cell_type": "code",
      "source": [
        "len(os.listdir('/content/drive/MyDrive/Classroom/BD SEP23 B2 SABIR/Data/Dog'))"
      ],
      "metadata": {
        "colab": {
          "base_uri": "https://localhost:8080/"
        },
        "id": "z4jEidxpTNQN",
        "outputId": "281a89b3-35ad-411f-b228-7199831aba2a"
      },
      "execution_count": null,
      "outputs": [
        {
          "output_type": "execute_result",
          "data": {
            "text/plain": [
              "68"
            ]
          },
          "metadata": {},
          "execution_count": 6
        }
      ]
    },
    {
      "cell_type": "code",
      "source": [
        "catpath = os.path.join('/content/drive/MyDrive/Classroom/BD SEP23 B2 SABIR/Data','Cat')\n",
        "for img in os.listdir(catpath):\n",
        "  print(img)"
      ],
      "metadata": {
        "colab": {
          "base_uri": "https://localhost:8080/"
        },
        "id": "Cc8BaW3qUATr",
        "outputId": "7e441d8d-79a8-4138-96d7-64ab3311c175"
      },
      "execution_count": null,
      "outputs": [
        {
          "output_type": "stream",
          "name": "stdout",
          "text": [
            "cat.103.jpg\n",
            "cat.111.jpg\n",
            "cat.104.jpg\n",
            "cat.106.jpg\n",
            "cat.109.jpg\n",
            "cat.101.jpg\n",
            "cat.108.jpg\n",
            "cat.105.jpg\n",
            "cat.102.jpg\n",
            "cat.107.jpg\n",
            "cat.100.jpg\n",
            "cat.110.jpg\n",
            "cat.115.jpg\n",
            "cat.117.jpg\n",
            "cat.119.jpg\n",
            "cat.116.jpg\n",
            "cat.112.jpg\n",
            "cat.118.jpg\n",
            "cat.114.jpg\n",
            "cat.113.jpg\n",
            "cat.45.jpg\n",
            "cat.48.jpg\n",
            "cat.55.jpg\n",
            "cat.37.jpg\n",
            "cat.47.jpg\n",
            "cat.42.jpg\n",
            "cat.51.jpg\n",
            "cat.35.jpg\n",
            "cat.39.jpg\n",
            "cat.56.jpg\n",
            "cat.60.jpg\n",
            "cat.54.jpg\n",
            "cat.63.jpg\n",
            "cat.61.jpg\n",
            "cat.59.jpg\n",
            "cat.62.jpg\n",
            "cat.57.jpg\n",
            "cat.53.jpg\n",
            "cat.46.jpg\n",
            "cat.38.jpg\n",
            "cat.36.jpg\n",
            "cat.50.jpg\n",
            "cat.43.jpg\n",
            "cat.52.jpg\n",
            "cat.49.jpg\n",
            "cat.41.jpg\n",
            "cat.40.jpg\n",
            "cat.44.jpg\n",
            "cat.58.jpg\n",
            "cat.95.jpg\n",
            "cat.94.jpg\n",
            "cat.75.jpg\n",
            "cat.66.jpg\n",
            "cat.97.jpg\n",
            "cat.65.jpg\n",
            "cat.84.jpg\n",
            "cat.71.jpg\n",
            "cat.73.jpg\n",
            "cat.86.jpg\n",
            "cat.74.jpg\n",
            "cat.93.jpg\n",
            "cat.69.jpg\n",
            "cat.85.jpg\n",
            "cat.68.jpg\n",
            "cat.72.jpg\n",
            "cat.98.jpg\n",
            "cat.79.jpg\n",
            "cat.80.jpg\n",
            "cat.92.jpg\n",
            "cat.78.jpg\n",
            "cat.89.jpg\n",
            "cat.81.jpg\n",
            "cat.77.jpg\n",
            "cat.91.jpg\n",
            "cat.64.jpg\n",
            "cat.87.jpg\n",
            "cat.90.jpg\n",
            "cat.76.jpg\n",
            "cat.67.jpg\n",
            "cat.96.jpg\n",
            "cat.88.jpg\n",
            "cat.70.jpg\n",
            "cat.82.jpg\n",
            "cat.83.jpg\n",
            "cat.99.jpg\n"
          ]
        }
      ]
    },
    {
      "cell_type": "code",
      "source": [],
      "metadata": {
        "id": "TwtwjxLBUd2z"
      },
      "execution_count": null,
      "outputs": []
    }
  ]
}