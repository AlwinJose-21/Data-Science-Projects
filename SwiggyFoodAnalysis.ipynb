{
  "nbformat": 4,
  "nbformat_minor": 0,
  "metadata": {
    "colab": {
      "provenance": [],
      "authorship_tag": "ABX9TyO2Vwei+TnPsyhHMhJl88Bj",
      "include_colab_link": true
    },
    "kernelspec": {
      "name": "python3",
      "display_name": "Python 3"
    },
    "language_info": {
      "name": "python"
    }
  },
  "cells": [
    {
      "cell_type": "markdown",
      "metadata": {
        "id": "view-in-github",
        "colab_type": "text"
      },
      "source": [
        "<a href=\"https://colab.research.google.com/github/AlwinJose-21/Data-Science-Projects/blob/main/SwiggyFoodAnalysis.ipynb\" target=\"_parent\"><img src=\"https://colab.research.google.com/assets/colab-badge.svg\" alt=\"Open In Colab\"/></a>"
      ]
    },
    {
      "cell_type": "code",
      "execution_count": null,
      "metadata": {
        "id": "XAA3RePDugDq"
      },
      "outputs": [],
      "source": [
        "import pandas as pd\n",
        "import numpy as np\n",
        "import matplotlib.pyplot as plt\n",
        "import seaborn as sns\n",
        "import plotly.express as px"
      ]
    },
    {
      "cell_type": "code",
      "source": [
        "df = pd.read_csv('/content/swiggy_file.csv')\n",
        "df"
      ],
      "metadata": {
        "id": "7T8DIUcyvBWm"
      },
      "execution_count": null,
      "outputs": []
    },
    {
      "cell_type": "code",
      "source": [
        "#The average price is replaced from 'â‚¹50 for one' to 50\n",
        "df['Average Price'] = df['Average Price'].str.extract('(\\d+)').fillna(0).astype(int)"
      ],
      "metadata": {
        "id": "K3Rrnkf_vbqt"
      },
      "execution_count": null,
      "outputs": []
    },
    {
      "cell_type": "code",
      "source": [
        "df"
      ],
      "metadata": {
        "id": "J5C_N8mOvb9u"
      },
      "execution_count": null,
      "outputs": []
    },
    {
      "cell_type": "code",
      "source": [
        "df.head(2)"
      ],
      "metadata": {
        "id": "179hAseczQOI"
      },
      "execution_count": null,
      "outputs": []
    },
    {
      "cell_type": "code",
      "source": [
        "df.tail(2)"
      ],
      "metadata": {
        "id": "8ywKFGrpzZpC"
      },
      "execution_count": null,
      "outputs": []
    },
    {
      "cell_type": "code",
      "source": [
        "#The restaurants with rating '--' is replaced with zero\n",
        "df['Rating'] = df['Rating'].replace('--', '0')"
      ],
      "metadata": {
        "id": "nwnEw3wevcHb"
      },
      "execution_count": null,
      "outputs": []
    },
    {
      "cell_type": "code",
      "source": [
        "df.isna().sum()"
      ],
      "metadata": {
        "id": "N5lywUbDzuXs"
      },
      "execution_count": null,
      "outputs": []
    },
    {
      "cell_type": "code",
      "source": [
        "df['Restaurant Name'].value_counts()"
      ],
      "metadata": {
        "id": "qeaKVDNhzuro"
      },
      "execution_count": null,
      "outputs": []
    },
    {
      "cell_type": "code",
      "source": [
        "#The restaurants with rating '-' is replaced with zero\n",
        "df['Number of Ratings'] = df['Number of Ratings'].replace('Too Few Ratings', '0')"
      ],
      "metadata": {
        "id": "pwD-gyzevcJP"
      },
      "execution_count": null,
      "outputs": []
    },
    {
      "cell_type": "code",
      "source": [
        "df['Number of Ratings'] = df['Number of Ratings'].str.replace(r'\\+.*', '', regex=True)"
      ],
      "metadata": {
        "id": "a8slFdJ0xmMB"
      },
      "execution_count": null,
      "outputs": []
    },
    {
      "cell_type": "code",
      "source": [
        "df"
      ],
      "metadata": {
        "id": "VH2ETR0pvcNp"
      },
      "execution_count": null,
      "outputs": []
    },
    {
      "cell_type": "code",
      "source": [
        "df['Number of Ratings'] = df['Number of Ratings'].str.replace(r'\\D', '', regex=True)\n",
        "df"
      ],
      "metadata": {
        "id": "v-bWRZclvcPV"
      },
      "execution_count": null,
      "outputs": []
    },
    {
      "cell_type": "code",
      "source": [
        "df['Offer Name'] = df['Offer Name'].str.replace('\\n', ',')\n",
        "df"
      ],
      "metadata": {
        "id": "MGKjTu-2vcTG"
      },
      "execution_count": null,
      "outputs": []
    },
    {
      "cell_type": "code",
      "source": [
        "\n",
        "pure_veg_counts = df['Pure Veg'].value_counts().reset_index()\n",
        "pure_veg_counts.columns = ['Pure Veg', 'Count']\n",
        "\n",
        "fig = px.pie(\n",
        "    pure_veg_counts,\n",
        "    names='Pure Veg',\n",
        "    values='Count',\n",
        "    title='Distribution of Pure Vegetarian Restaurants',\n",
        "    color_discrete_sequence=px.colors.qualitative.Dark2,\n",
        "    labels={'Pure Veg': 'Yes', 'Non-Veg': 'No'},\n",
        "    template='seaborn'\n",
        ")\n",
        "\n",
        "fig.show()\n"
      ],
      "metadata": {
        "id": "1ndiMvEiWqqB"
      },
      "execution_count": null,
      "outputs": []
    },
    {
      "cell_type": "code",
      "source": [
        "df['Rating'] = pd.to_numeric(df['Rating'], errors='coerce')\n",
        "df['Rating Category'] = df['Rating'].apply(lambda x: '0-3' if pd.isna(x) or x < 3 else ('3-4' if x < 4 else '4+'))\n",
        "rating_counts = df['Rating Category'].value_counts()\n",
        "colors = ['gold', 'lightcoral', 'lightskyblue']\n",
        "\n",
        "plt.figure(figsize=(4, 4))\n",
        "plt.pie(rating_counts, labels=rating_counts.index, autopct='%1.1f%%', startangle=90, colors=colors)\n",
        "plt.title('Distribution of Ratings')\n",
        "plt.show()"
      ],
      "metadata": {
        "id": "sp-5irtqvcZF"
      },
      "execution_count": null,
      "outputs": []
    },
    {
      "cell_type": "code",
      "source": [
        "#After getting the unique prices, we can divide them into different categories\n",
        "unique_prices = [50, 100, 150, 200, 250, 300, 500, 400, 350, 450, 40, 0, 550, 48, 1, 600, 32, 900, 750, 800, 650, 10, 12, 850, 2]\n",
        "\n",
        "# Define the price ranges\n",
        "price_ranges = {\n",
        "    'Less than 50': lambda x: x < 50,\n",
        "    '100-200': lambda x: 100 <= x < 200,\n",
        "    '200-300': lambda x: 200 <= x < 300,\n",
        "    '300-400': lambda x: 300 <= x < 400,\n",
        "    '400-500': lambda x: 400 <= x < 500,\n",
        "    '500-700': lambda x: 500 <= x < 700,\n",
        "    'Greater than 700': lambda x: x > 700\n",
        "}\n",
        "price_counts = {range_name: sum(price_range(price) for price in unique_prices) for range_name, price_range in price_ranges.items()}\n",
        "\n",
        "\n",
        "labels = price_counts.keys()\n",
        "sizes = price_counts.values()\n",
        "\n",
        "fig, ax = plt.subplots()\n",
        "ax.pie(sizes, labels=labels, autopct='%1.1f%%', startangle=90)\n",
        "ax.axis('equal')\n",
        "\n",
        "plt.title('Distribution of Average Prices')\n",
        "plt.show()"
      ],
      "metadata": {
        "id": "e8vII-L43nMS"
      },
      "execution_count": null,
      "outputs": []
    },
    {
      "cell_type": "code",
      "source": [
        "sns.boxplot(x=\"Rating Category\", y=\"Average Price\", data=df)\n",
        "plt.title(\"Average Price by Rating Category\")\n",
        "plt.show()\n"
      ],
      "metadata": {
        "id": "SnUQ3JFvZOWo"
      },
      "execution_count": null,
      "outputs": []
    },
    {
      "cell_type": "code",
      "source": [
        "def remove_outliers(df, column, s=1.5):\n",
        "  # Calculate the interquartile range (IQR)\n",
        "  q1 = df[column].quantile(0.25)\n",
        "  q3 = df[column].quantile(0.75)\n",
        "  iqr = q3 - q1\n",
        "\n",
        "  # Define the lower and upper bounds for outliers\n",
        "  lower_bound = q1 - s * iqr\n",
        "  upper_bound = q3 + s * iqr\n",
        "\n",
        "  # Filter the data to remove outliers\n",
        "  cleaned_df = df[(df[column] >= lower_bound) & (df[column] <= upper_bound)]\n",
        "\n",
        "  return cleaned_df\n",
        "\n",
        "df_cleaned = remove_outliers(df, 'Average Price')\n",
        "sns.boxplot(x=\"Rating Category\", y=\"Average Price\", data=df_cleaned)\n",
        "plt.title(\"Average Price by Rating Category (Outliers Removed)\")\n",
        "plt.show()\n"
      ],
      "metadata": {
        "id": "yNH9RPyJfPyV"
      },
      "execution_count": null,
      "outputs": []
    },
    {
      "cell_type": "code",
      "source": [
        "#To find all possible Cuisine in the dataset\n",
        "cuisine_column = df['Cuisine']\n",
        "\n",
        "all_cuisines = [cuisine.split(', ') for cuisine in cuisine_column if pd.notna(cuisine)]\n",
        "unique_cuisines = set([c for sublist in all_cuisines for c in sublist])\n",
        "\n",
        "print(\"All Possible Cuisines:\", unique_cuisines)"
      ],
      "metadata": {
        "id": "xrbZhc533n_s"
      },
      "execution_count": null,
      "outputs": []
    },
    {
      "cell_type": "code",
      "source": [
        "cuisine_counts = df['Cuisine'].str.split(', ').explode().value_counts()\n",
        "top_15_cuisines = cuisine_counts.head(15)\n",
        "plot_data = pd.DataFrame({'Cuisine': top_15_cuisines.index, 'Frequency': top_15_cuisines.values})\n",
        "colors = px.colors.qualitative.Set3\n",
        "\n",
        "fig = px.bar(plot_data, x='Frequency', y='Cuisine', color='Cuisine',\n",
        "             color_discrete_sequence=colors,\n",
        "             orientation='h', labels={'Frequency': 'Frequency'},\n",
        "             title='Top 15 Cuisines', width=800, height=500)\n",
        "\n",
        "fig.update_layout(showlegend=False)\n",
        "fig.show()"
      ],
      "metadata": {
        "id": "qk_CrKfV3oIK"
      },
      "execution_count": null,
      "outputs": []
    },
    {
      "cell_type": "code",
      "source": [
        "average_price = df['Average Price']\n",
        "df['Rating'] = pd.to_numeric(df['Rating'], errors='coerce')\n",
        "\n",
        "# Define rating categories\n",
        "def categorize_rating(rating):\n",
        "    if rating < 3:\n",
        "        return '<3'\n",
        "    elif 3 <= rating < 4:\n",
        "        return '3-4'\n",
        "    else:\n",
        "        return '4+'\n",
        "df['Rating Category'] = df['Rating'].apply(categorize_rating)\n",
        "\n",
        "# Define a color palette for each category\n",
        "palette = {'<3': 'red', '3-4': 'orange', '4+': 'green'}\n",
        "\n",
        "plt.figure(figsize=(10, 6))\n",
        "sns.scatterplot(x=average_price, y=df['Rating'], hue=df['Rating Category'], palette=palette, alpha=0.7)\n",
        "plt.title('Relation between Average Price and Rating')\n",
        "plt.xlabel('Average Price')\n",
        "plt.ylabel('Rating')\n",
        "plt.legend(title='Rating Category')\n",
        "plt.show()"
      ],
      "metadata": {
        "id": "WrAStHzs3oQf"
      },
      "execution_count": null,
      "outputs": []
    },
    {
      "cell_type": "code",
      "source": [
        "df"
      ],
      "metadata": {
        "id": "fkGm8TWWajI_"
      },
      "execution_count": null,
      "outputs": []
    },
    {
      "cell_type": "code",
      "source": [
        "df.nunique()"
      ],
      "metadata": {
        "id": "TNpN1-iT3oVU"
      },
      "execution_count": null,
      "outputs": []
    },
    {
      "cell_type": "code",
      "source": [
        "df.info()"
      ],
      "metadata": {
        "id": "bBqQCC293od_"
      },
      "execution_count": null,
      "outputs": []
    },
    {
      "cell_type": "code",
      "source": [
        "df.isna().sum()"
      ],
      "metadata": {
        "id": "mSop0U8M6WDx"
      },
      "execution_count": null,
      "outputs": []
    },
    {
      "cell_type": "code",
      "source": [
        "df['Rating'].fillna(df['Rating'].mode()[0],inplace=True)\n",
        "df['Rating']"
      ],
      "metadata": {
        "id": "BFEsctmW6WsI"
      },
      "execution_count": null,
      "outputs": []
    },
    {
      "cell_type": "code",
      "source": [
        "df.columns"
      ],
      "metadata": {
        "id": "B-BBqE1b6WF4"
      },
      "execution_count": null,
      "outputs": []
    },
    {
      "cell_type": "code",
      "source": [
        "df.sample(5).T"
      ],
      "metadata": {
        "id": "D-7dWPF26WKK"
      },
      "execution_count": null,
      "outputs": []
    },
    {
      "cell_type": "code",
      "source": [
        "df['Number of Ratings'].fillna(1,inplace=True)\n",
        "df['Number of Ratings']"
      ],
      "metadata": {
        "id": "0BArIFHm6WvB"
      },
      "execution_count": null,
      "outputs": []
    },
    {
      "cell_type": "code",
      "source": [
        "df['Number of Ratings']=df['Number of Ratings'].astype(np.int64)"
      ],
      "metadata": {
        "id": "pUj_A9s_VL9x"
      },
      "execution_count": null,
      "outputs": []
    },
    {
      "cell_type": "code",
      "source": [
        "df['Offer Name'].fillna(df['Offer Name'].mode(),inplace=True)\n",
        "df['Offer Name']"
      ],
      "metadata": {
        "id": "gEsz62czKDHu"
      },
      "execution_count": null,
      "outputs": []
    },
    {
      "cell_type": "code",
      "source": [
        "x = df.drop(['Rating'], axis=1)\n",
        "x"
      ],
      "metadata": {
        "id": "DluK_Szb6WXR"
      },
      "execution_count": null,
      "outputs": []
    },
    {
      "cell_type": "code",
      "source": [
        "df.isna().sum()"
      ],
      "metadata": {
        "id": "UiT4FCwqKmbu"
      },
      "execution_count": null,
      "outputs": []
    },
    {
      "cell_type": "code",
      "source": [
        "df['Number of Offers'].fillna(2.0,inplace=True)\n",
        "df['Area'].fillna('Circular Road',inplace=True)\n",
        "df['Pure Veg'].fillna('No',inplace=True)\n",
        "df['Location'].fillna('Bhopal',inplace=True)\n",
        "df['Offer Name'].fillna('None',inplace=True)\n",
        "df['Cuisine'].fillna(df['Cuisine'].mode()[0],inplace =True)"
      ],
      "metadata": {
        "id": "i-Ydbhz3KmeL"
      },
      "execution_count": null,
      "outputs": []
    },
    {
      "cell_type": "code",
      "source": [
        "df.isna().sum()"
      ],
      "metadata": {
        "id": "X8eOyFK3M9_O"
      },
      "execution_count": null,
      "outputs": []
    },
    {
      "cell_type": "code",
      "source": [
        "df.info()"
      ],
      "metadata": {
        "id": "m3zKOUFMUxKy"
      },
      "execution_count": null,
      "outputs": []
    },
    {
      "cell_type": "code",
      "source": [
        "from sklearn.preprocessing import LabelEncoder\n",
        "# Function to perform Label Encoding for multiple columns\n",
        "def label_encode_multiple(df, columns):\n",
        "    le = LabelEncoder()\n",
        "    for column in columns:\n",
        "        df[column] = le.fit_transform(df[column])\n",
        "    return df\n",
        "\n",
        "label_encode_columns = ['Restaurant Name','Cuisine','Offer Name', 'Area', 'Pure Veg', 'Location', 'Rating Category']\n",
        "df = label_encode_multiple(df, label_encode_columns)"
      ],
      "metadata": {
        "id": "NXstoCSOUsRM"
      },
      "execution_count": null,
      "outputs": []
    },
    {
      "cell_type": "code",
      "source": [
        "from sklearn.preprocessing import StandardScaler\n",
        "# Standardization\n",
        "scaler = StandardScaler()\n",
        "df_standardized = scaler.fit_transform(df)\n",
        "df = pd.DataFrame(df_standardized, columns=df.columns)"
      ],
      "metadata": {
        "id": "8QhTBUzhZMtS"
      },
      "execution_count": null,
      "outputs": []
    },
    {
      "cell_type": "code",
      "source": [
        "x = df.drop(['Rating'],axis=1).values\n",
        "x"
      ],
      "metadata": {
        "id": "iD3VdhM8ONTP"
      },
      "execution_count": null,
      "outputs": []
    },
    {
      "cell_type": "code",
      "source": [
        "y = df['Rating'].values\n",
        "y"
      ],
      "metadata": {
        "id": "Zw_YsVUQO0kV"
      },
      "execution_count": null,
      "outputs": []
    },
    {
      "cell_type": "code",
      "source": [
        "from sklearn.model_selection import train_test_split\n",
        "x_train,x_test,y_train,y_test=train_test_split(x,y,test_size=0.3,random_state=42)\n",
        "x_train"
      ],
      "metadata": {
        "id": "UdNAToHlQZW7"
      },
      "execution_count": null,
      "outputs": []
    },
    {
      "cell_type": "code",
      "source": [
        "from sklearn.linear_model import LinearRegression\n",
        "from sklearn.metrics import r2_score, mean_absolute_error, mean_squared_error"
      ],
      "metadata": {
        "id": "Ajd_L-NeZjfV"
      },
      "execution_count": null,
      "outputs": []
    },
    {
      "cell_type": "code",
      "source": [
        "from sklearn.model_selection import GridSearchCV\n",
        "\n",
        "param_grid = {\n",
        "    'fit_intercept': [True, False],\n",
        "    'copy_X': [True, False]\n",
        "}\n",
        "\n",
        "linear_regression = LinearRegression()\n",
        "\n",
        "grid_search = GridSearchCV(linear_regression, param_grid, cv=5)\n",
        "\n",
        "grid_search.fit(x_train, y_train)\n",
        "best_model = grid_search.best_estimator_\n",
        "\n",
        "\n",
        "print(\"Best parameters:\", grid_search.best_params_)\n",
        "\n",
        "y_pred = best_model.predict(x_test)\n",
        "r2 = r2_score(y_test, y_pred)\n",
        "mae = mean_absolute_error(y_test, y_pred)\n",
        "rmse = np.sqrt(mean_squared_error(y_test, y_pred))\n",
        "\n",
        "print(f'R-squared: {r2:.2f}')\n",
        "print(f'Mean Absolute Error (MAE): {mae:.2f}')\n",
        "print(f'Root Mean Squared Error (RMSE): {rmse:.2f}')"
      ],
      "metadata": {
        "id": "h0rOVcN9efzZ"
      },
      "execution_count": null,
      "outputs": []
    },
    {
      "cell_type": "code",
      "source": [
        "from sklearn.ensemble import RandomForestRegressor\n",
        "from sklearn.model_selection import GridSearchCV\n",
        "\n",
        "# Define the random forest model\n",
        "random_forest = RandomForestRegressor()\n",
        "\n",
        "# Define the hyperparameter grid\n",
        "param_grid = {\n",
        "    'n_estimators': [50, 100, 150],\n",
        "    'max_depth': [None, 5, 10],\n",
        "    'min_samples_split': [2, 5, 10],\n",
        "    'min_samples_leaf': [1, 2, 4]\n",
        "}\n",
        "\n",
        "# Perform grid search cross-validation\n",
        "grid_search = GridSearchCV(random_forest, param_grid, cv=5)\n",
        "grid_search.fit(x_train, y_train)\n",
        "\n",
        "# Get the best model\n",
        "best_model = grid_search.best_estimator_\n",
        "\n",
        "# Evaluate the model on the test set\n",
        "y_pred = best_model.predict(x_test)\n",
        "r2 = r2_score(y_test, y_pred)\n",
        "mae = mean_absolute_error(y_test, y_pred)\n",
        "rmse = np.sqrt(mean_squared_error(y_test, y_pred))\n",
        "\n",
        "print(f'R-squared: {r2:.2f}')\n",
        "print(f'Mean Absolute Error (MAE): {mae:.2f}')\n",
        "print(f'Root Mean Squared Error (RMSE): {rmse:.2f}')\n"
      ],
      "metadata": {
        "id": "W6cZxbtxTYyc"
      },
      "execution_count": null,
      "outputs": []
    }
  ]
}