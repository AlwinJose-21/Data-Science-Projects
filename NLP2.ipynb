{
  "nbformat": 4,
  "nbformat_minor": 0,
  "metadata": {
    "colab": {
      "provenance": [],
      "authorship_tag": "ABX9TyP8ww32R1cfWIo6OxhWd18r",
      "include_colab_link": true
    },
    "kernelspec": {
      "name": "python3",
      "display_name": "Python 3"
    },
    "language_info": {
      "name": "python"
    }
  },
  "cells": [
    {
      "cell_type": "markdown",
      "metadata": {
        "id": "view-in-github",
        "colab_type": "text"
      },
      "source": [
        "<a href=\"https://colab.research.google.com/github/AlwinJose-21/Data-Science-Projects/blob/main/NLP2.ipynb\" target=\"_parent\"><img src=\"https://colab.research.google.com/assets/colab-badge.svg\" alt=\"Open In Colab\"/></a>"
      ]
    },
    {
      "cell_type": "code",
      "execution_count": null,
      "metadata": {
        "id": "-Oj5COj5l6Lh"
      },
      "outputs": [],
      "source": [
        "import nltk"
      ]
    },
    {
      "cell_type": "code",
      "source": [
        "text='''Digital marketing is the component of marketing that uses the Internet and online-based digital technologies\n",
        " such as desktop computers, mobile phones, and other digital media and platforms to promote products and services.\n",
        "  Its development during the 1990s and 2000s changed the way brands and businesses use technology for marketing. '''"
      ],
      "metadata": {
        "id": "WODX8_Jmmuch"
      },
      "execution_count": null,
      "outputs": []
    },
    {
      "cell_type": "code",
      "source": [
        "nltk.download('stopwords')\n",
        "from nltk.corpus import stopwords\n",
        "sw=stopwords.words('english')\n",
        "print(sw)"
      ],
      "metadata": {
        "colab": {
          "base_uri": "https://localhost:8080/"
        },
        "id": "HHuqWR_GnReQ",
        "outputId": "ccefc9ee-00d3-4b85-fca1-e5a20bc95cf8"
      },
      "execution_count": null,
      "outputs": [
        {
          "output_type": "stream",
          "name": "stdout",
          "text": [
            "['i', 'me', 'my', 'myself', 'we', 'our', 'ours', 'ourselves', 'you', \"you're\", \"you've\", \"you'll\", \"you'd\", 'your', 'yours', 'yourself', 'yourselves', 'he', 'him', 'his', 'himself', 'she', \"she's\", 'her', 'hers', 'herself', 'it', \"it's\", 'its', 'itself', 'they', 'them', 'their', 'theirs', 'themselves', 'what', 'which', 'who', 'whom', 'this', 'that', \"that'll\", 'these', 'those', 'am', 'is', 'are', 'was', 'were', 'be', 'been', 'being', 'have', 'has', 'had', 'having', 'do', 'does', 'did', 'doing', 'a', 'an', 'the', 'and', 'but', 'if', 'or', 'because', 'as', 'until', 'while', 'of', 'at', 'by', 'for', 'with', 'about', 'against', 'between', 'into', 'through', 'during', 'before', 'after', 'above', 'below', 'to', 'from', 'up', 'down', 'in', 'out', 'on', 'off', 'over', 'under', 'again', 'further', 'then', 'once', 'here', 'there', 'when', 'where', 'why', 'how', 'all', 'any', 'both', 'each', 'few', 'more', 'most', 'other', 'some', 'such', 'no', 'nor', 'not', 'only', 'own', 'same', 'so', 'than', 'too', 'very', 's', 't', 'can', 'will', 'just', 'don', \"don't\", 'should', \"should've\", 'now', 'd', 'll', 'm', 'o', 're', 've', 'y', 'ain', 'aren', \"aren't\", 'couldn', \"couldn't\", 'didn', \"didn't\", 'doesn', \"doesn't\", 'hadn', \"hadn't\", 'hasn', \"hasn't\", 'haven', \"haven't\", 'isn', \"isn't\", 'ma', 'mightn', \"mightn't\", 'mustn', \"mustn't\", 'needn', \"needn't\", 'shan', \"shan't\", 'shouldn', \"shouldn't\", 'wasn', \"wasn't\", 'weren', \"weren't\", 'won', \"won't\", 'wouldn', \"wouldn't\"]\n"
          ]
        },
        {
          "output_type": "stream",
          "name": "stderr",
          "text": [
            "[nltk_data] Downloading package stopwords to /root/nltk_data...\n",
            "[nltk_data]   Unzipping corpora/stopwords.zip.\n"
          ]
        }
      ]
    },
    {
      "cell_type": "code",
      "source": [
        "nltk.download('punkt')\n",
        "from nltk.tokenize import word_tokenize\n",
        "tok=nltk.word_tokenize(text)\n",
        "tok"
      ],
      "metadata": {
        "colab": {
          "base_uri": "https://localhost:8080/"
        },
        "id": "bYGRPElon8iX",
        "outputId": "76c2bb81-ce3c-4516-d347-52396be574f9"
      },
      "execution_count": null,
      "outputs": [
        {
          "output_type": "stream",
          "name": "stderr",
          "text": [
            "[nltk_data] Downloading package punkt to /root/nltk_data...\n",
            "[nltk_data]   Unzipping tokenizers/punkt.zip.\n"
          ]
        },
        {
          "output_type": "execute_result",
          "data": {
            "text/plain": [
              "['Digital',\n",
              " 'marketing',\n",
              " 'is',\n",
              " 'the',\n",
              " 'component',\n",
              " 'of',\n",
              " 'marketing',\n",
              " 'that',\n",
              " 'uses',\n",
              " 'the',\n",
              " 'Internet',\n",
              " 'and',\n",
              " 'online-based',\n",
              " 'digital',\n",
              " 'technologies',\n",
              " 'such',\n",
              " 'as',\n",
              " 'desktop',\n",
              " 'computers',\n",
              " ',',\n",
              " 'mobile',\n",
              " 'phones',\n",
              " ',',\n",
              " 'and',\n",
              " 'other',\n",
              " 'digital',\n",
              " 'media',\n",
              " 'and',\n",
              " 'platforms',\n",
              " 'to',\n",
              " 'promote',\n",
              " 'products',\n",
              " 'and',\n",
              " 'services',\n",
              " '.',\n",
              " 'Its',\n",
              " 'development',\n",
              " 'during',\n",
              " 'the',\n",
              " '1990s',\n",
              " 'and',\n",
              " '2000s',\n",
              " 'changed',\n",
              " 'the',\n",
              " 'way',\n",
              " 'brands',\n",
              " 'and',\n",
              " 'businesses',\n",
              " 'use',\n",
              " 'technology',\n",
              " 'for',\n",
              " 'marketing',\n",
              " '.']"
            ]
          },
          "metadata": {},
          "execution_count": 4
        }
      ]
    },
    {
      "cell_type": "code",
      "source": [
        "token_stop = [i.lower() for i in tok]\n",
        "stop_data = [i for i in token_stop if i not in sw]\n",
        "stop_data"
      ],
      "metadata": {
        "colab": {
          "base_uri": "https://localhost:8080/"
        },
        "id": "2YUIi_Atng_b",
        "outputId": "659c4d16-2bee-4339-c832-3d3963adc674"
      },
      "execution_count": null,
      "outputs": [
        {
          "output_type": "execute_result",
          "data": {
            "text/plain": [
              "['digital',\n",
              " 'marketing',\n",
              " 'component',\n",
              " 'marketing',\n",
              " 'uses',\n",
              " 'internet',\n",
              " 'online-based',\n",
              " 'digital',\n",
              " 'technologies',\n",
              " 'desktop',\n",
              " 'computers',\n",
              " ',',\n",
              " 'mobile',\n",
              " 'phones',\n",
              " ',',\n",
              " 'digital',\n",
              " 'media',\n",
              " 'platforms',\n",
              " 'promote',\n",
              " 'products',\n",
              " 'services',\n",
              " '.',\n",
              " 'development',\n",
              " '1990s',\n",
              " '2000s',\n",
              " 'changed',\n",
              " 'way',\n",
              " 'brands',\n",
              " 'businesses',\n",
              " 'use',\n",
              " 'technology',\n",
              " 'marketing',\n",
              " '.']"
            ]
          },
          "metadata": {},
          "execution_count": 5
        }
      ]
    },
    {
      "cell_type": "code",
      "source": [
        "spc=\" (),.{[]*!@#$%^&?/-+\\|~`:;'<>}\"\n",
        "lst = [i for i in stop_data if i not in spc]\n",
        "lst"
      ],
      "metadata": {
        "colab": {
          "base_uri": "https://localhost:8080/"
        },
        "id": "iBwtYqHzrQ98",
        "outputId": "0281109c-f478-4908-923b-136d55d27f31"
      },
      "execution_count": null,
      "outputs": [
        {
          "output_type": "execute_result",
          "data": {
            "text/plain": [
              "['digital',\n",
              " 'marketing',\n",
              " 'component',\n",
              " 'marketing',\n",
              " 'uses',\n",
              " 'internet',\n",
              " 'online-based',\n",
              " 'digital',\n",
              " 'technologies',\n",
              " 'desktop',\n",
              " 'computers',\n",
              " 'mobile',\n",
              " 'phones',\n",
              " 'digital',\n",
              " 'media',\n",
              " 'platforms',\n",
              " 'promote',\n",
              " 'products',\n",
              " 'services',\n",
              " 'development',\n",
              " '1990s',\n",
              " '2000s',\n",
              " 'changed',\n",
              " 'way',\n",
              " 'brands',\n",
              " 'businesses',\n",
              " 'use',\n",
              " 'technology',\n",
              " 'marketing']"
            ]
          },
          "metadata": {},
          "execution_count": 6
        }
      ]
    },
    {
      "cell_type": "code",
      "source": [
        "#Regular expression A-Z a-z\n",
        "import re\n",
        "str1 = 'Wonderful @peacock@123456!#$'\n",
        "str2 = re.sub('[^a-zA-Z0-9]','',str1)\n",
        "print(str2.lower())"
      ],
      "metadata": {
        "colab": {
          "base_uri": "https://localhost:8080/"
        },
        "id": "-TfVdNu4vK8i",
        "outputId": "7d10c4f8-86c0-49d5-a301-d1e5a94278e4"
      },
      "execution_count": null,
      "outputs": [
        {
          "output_type": "stream",
          "name": "stdout",
          "text": [
            "wonderfulpeacock123456\n"
          ]
        }
      ]
    },
    {
      "cell_type": "code",
      "source": [
        "#N gram\n",
        "import nltk\n",
        "from nltk.util import ngrams\n",
        "text1 = 'this is a very good book to study'\n",
        "tokens = ngrams(sequence=nltk.word_tokenize(text1),n=2)\n",
        "for i in tokens:\n",
        "  print(i)"
      ],
      "metadata": {
        "colab": {
          "base_uri": "https://localhost:8080/"
        },
        "id": "vXrrPmBczVk2",
        "outputId": "dd4c6239-e4b5-4460-ae4e-33c22d6d6d57"
      },
      "execution_count": null,
      "outputs": [
        {
          "output_type": "stream",
          "name": "stdout",
          "text": [
            "('this', 'is')\n",
            "('is', 'a')\n",
            "('a', 'very')\n",
            "('very', 'good')\n",
            "('good', 'book')\n",
            "('book', 'to')\n",
            "('to', 'study')\n"
          ]
        }
      ]
    },
    {
      "cell_type": "code",
      "source": [
        "#stemming\n",
        "from nltk.stem import PorterStemmer\n",
        "from nltk.tokenize import word_tokenize\n",
        "ps = PorterStemmer()\n",
        "words=['program','programs','programming','reached','walking','writing','thought','bought','running']\n",
        "for i in words:\n",
        "  print(i,\":\",ps.stem(i))"
      ],
      "metadata": {
        "colab": {
          "base_uri": "https://localhost:8080/"
        },
        "id": "SyGmT-BC0mfo",
        "outputId": "76a7f922-3260-4a48-a436-69ba83a718d2"
      },
      "execution_count": null,
      "outputs": [
        {
          "output_type": "stream",
          "name": "stdout",
          "text": [
            "program : program\n",
            "programs : program\n",
            "programming : program\n",
            "reached : reach\n",
            "walking : walk\n",
            "writing : write\n",
            "thought : thought\n",
            "bought : bought\n",
            "running : run\n"
          ]
        }
      ]
    },
    {
      "cell_type": "code",
      "source": [
        "#Snowball Stemmer\n",
        "from nltk.stem import SnowballStemmer\n",
        "from nltk.tokenize import word_tokenize\n",
        "sb=SnowballStemmer('english')\n",
        "for i in words:\n",
        "  print(i,\":\",sb.stem(i))"
      ],
      "metadata": {
        "colab": {
          "base_uri": "https://localhost:8080/"
        },
        "id": "PWR2UoRXydok",
        "outputId": "6813a667-8cab-442e-d032-f24078a5ba52"
      },
      "execution_count": null,
      "outputs": [
        {
          "output_type": "stream",
          "name": "stdout",
          "text": [
            "program : program\n",
            "programs : program\n",
            "programming : program\n",
            "reached : reach\n",
            "walking : walk\n",
            "writing : write\n",
            "thought : thought\n",
            "bought : bought\n",
            "running : run\n"
          ]
        }
      ]
    },
    {
      "cell_type": "code",
      "source": [
        "#Lemmatization\n",
        "from nltk.stem import WordNetLemmatizer\n",
        "nltk.download('wordnet')\n",
        "nltk.download('omw-1.4')\n",
        "lem=WordNetLemmatizer()\n",
        "print(\"rocks:\",lem.lemmatize(\"rocks\"))\n",
        "print(\"reachs:\",lem.lemmatize(\"reaches\"))"
      ],
      "metadata": {
        "colab": {
          "base_uri": "https://localhost:8080/"
        },
        "id": "Pbb-DSpTzaKW",
        "outputId": "200f82ba-90fc-41d1-acd8-426a81834996"
      },
      "execution_count": null,
      "outputs": [
        {
          "output_type": "stream",
          "name": "stderr",
          "text": [
            "[nltk_data] Downloading package wordnet to /root/nltk_data...\n",
            "[nltk_data] Downloading package omw-1.4 to /root/nltk_data...\n"
          ]
        },
        {
          "output_type": "stream",
          "name": "stdout",
          "text": [
            "rocks: rock\n",
            "reachs: reach\n"
          ]
        }
      ]
    },
    {
      "cell_type": "code",
      "source": [
        "print(\"better:\",lem.lemmatize(\"better\",pos='a'))"
      ],
      "metadata": {
        "colab": {
          "base_uri": "https://localhost:8080/"
        },
        "id": "MVqcxKqBzagN",
        "outputId": "908db674-0504-4f4d-ca86-ef92634240af"
      },
      "execution_count": null,
      "outputs": [
        {
          "output_type": "stream",
          "name": "stdout",
          "text": [
            "better: good\n"
          ]
        }
      ]
    }
  ]
}